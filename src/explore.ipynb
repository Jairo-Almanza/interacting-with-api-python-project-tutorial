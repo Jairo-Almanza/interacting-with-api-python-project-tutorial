{
    "cells": [
        {
            "cell_type": "markdown",
            "metadata": {},
            "source": [
                "# Explore here"
            ]
        },
        {
            "cell_type": "code",
            "execution_count": 7,
            "metadata": {},
            "outputs": [
                {
                    "data": {
                        "text/plain": [
                            "True"
                        ]
                    },
                    "execution_count": 7,
                    "metadata": {},
                    "output_type": "execute_result"
                }
            ],
            "source": [
                "import os\n",
                "from dotenv import load_dotenv\n",
                "import pandas as pd\n",
                "import seaborn as sns\n",
                "# load the .env file variables\n",
                "load_dotenv()\n",
                "\n"
            ]
        },
        {
            "cell_type": "code",
            "execution_count": 21,
            "metadata": {},
            "outputs": [],
            "source": [
                "from dotenv import load_dotenv\n",
                "load_dotenv()\n",
                "\n",
                "import os\n",
                "import matplotlib.pyplot as plt\n"
            ]
        },
        {
            "cell_type": "code",
            "execution_count": 11,
            "metadata": {},
            "outputs": [],
            "source": [
                "# Inicializar la biblioteca Spotipy\n",
                "import spotipy\n",
                "from spotipy.oauth2 import SpotifyClientCredentials\n",
                "\n",
                "client_id = os.environ.get(\"CLIENT_ID\")\n",
                "client_secret = os.environ.get(\"CLIENT_SECRET\")"
            ]
        },
        {
            "cell_type": "code",
            "execution_count": 13,
            "metadata": {},
            "outputs": [],
            "source": [
                "# top 10 de sus canciones\n",
                "satyricon_uri = 'spotify:artist:221Rd0FvVxMx7eCbWqjiKd'\n",
                "spotify = spotipy.Spotify(client_credentials_manager=SpotifyClientCredentials(client_id = client_id,client_secret =client_secret))\n",
                "\n",
                "best_10=spotify.artist_top_tracks(satyricon_uri)"
            ]
        },
        {
            "cell_type": "code",
            "execution_count": 19,
            "metadata": {},
            "outputs": [
                {
                    "data": {
                        "text/html": [
                            "<div>\n",
                            "<style scoped>\n",
                            "    .dataframe tbody tr th:only-of-type {\n",
                            "        vertical-align: middle;\n",
                            "    }\n",
                            "\n",
                            "    .dataframe tbody tr th {\n",
                            "        vertical-align: top;\n",
                            "    }\n",
                            "\n",
                            "    .dataframe thead th {\n",
                            "        text-align: right;\n",
                            "    }\n",
                            "</style>\n",
                            "<table border=\"1\" class=\"dataframe\">\n",
                            "  <thead>\n",
                            "    <tr style=\"text-align: right;\">\n",
                            "      <th></th>\n",
                            "      <th>Titulo_Cancion</th>\n",
                            "      <th>Popularidad</th>\n",
                            "      <th>Duracion (Min)</th>\n",
                            "    </tr>\n",
                            "  </thead>\n",
                            "  <tbody>\n",
                            "    <tr>\n",
                            "      <th>0</th>\n",
                            "      <td>Fuel for Hatred</td>\n",
                            "      <td>20</td>\n",
                            "      <td>3.891101</td>\n",
                            "    </tr>\n",
                            "    <tr>\n",
                            "      <th>1</th>\n",
                            "      <td>Nekrohaven</td>\n",
                            "      <td>30</td>\n",
                            "      <td>3.200367</td>\n",
                            "    </tr>\n",
                            "    <tr>\n",
                            "      <th>2</th>\n",
                            "      <td>The Wolfpack</td>\n",
                            "      <td>33</td>\n",
                            "      <td>4.084884</td>\n",
                            "    </tr>\n",
                            "    <tr>\n",
                            "      <th>3</th>\n",
                            "      <td>Dark Medieval Times - Remastered 2021</td>\n",
                            "      <td>33</td>\n",
                            "      <td>8.192885</td>\n",
                            "    </tr>\n",
                            "    <tr>\n",
                            "      <th>4</th>\n",
                            "      <td>Phoenix</td>\n",
                            "      <td>37</td>\n",
                            "      <td>6.536568</td>\n",
                            "    </tr>\n",
                            "    <tr>\n",
                            "      <th>5</th>\n",
                            "      <td>Now, Diabolical</td>\n",
                            "      <td>38</td>\n",
                            "      <td>5.510884</td>\n",
                            "    </tr>\n",
                            "    <tr>\n",
                            "      <th>6</th>\n",
                            "      <td>Black Crow on a Tombstone</td>\n",
                            "      <td>40</td>\n",
                            "      <td>3.874217</td>\n",
                            "    </tr>\n",
                            "    <tr>\n",
                            "      <th>7</th>\n",
                            "      <td>The Pentagram Burns</td>\n",
                            "      <td>40</td>\n",
                            "      <td>5.648001</td>\n",
                            "    </tr>\n",
                            "    <tr>\n",
                            "      <th>8</th>\n",
                            "      <td>Mother North</td>\n",
                            "      <td>40</td>\n",
                            "      <td>6.423551</td>\n",
                            "    </tr>\n",
                            "    <tr>\n",
                            "      <th>9</th>\n",
                            "      <td>K.I.N.G</td>\n",
                            "      <td>48</td>\n",
                            "      <td>3.605767</td>\n",
                            "    </tr>\n",
                            "  </tbody>\n",
                            "</table>\n",
                            "</div>"
                        ],
                        "text/plain": [
                            "                          Titulo_Cancion  Popularidad  Duracion (Min)\n",
                            "0                        Fuel for Hatred           20        3.891101\n",
                            "1                             Nekrohaven           30        3.200367\n",
                            "2                           The Wolfpack           33        4.084884\n",
                            "3  Dark Medieval Times - Remastered 2021           33        8.192885\n",
                            "4                                Phoenix           37        6.536568\n",
                            "5                        Now, Diabolical           38        5.510884\n",
                            "6              Black Crow on a Tombstone           40        3.874217\n",
                            "7                    The Pentagram Burns           40        5.648001\n",
                            "8                           Mother North           40        6.423551\n",
                            "9                                K.I.N.G           48        3.605767"
                        ]
                    },
                    "execution_count": 19,
                    "metadata": {},
                    "output_type": "execute_result"
                }
            ],
            "source": [
                "# Transformar a Pandas DataFrame\n",
                "song=[]\n",
                "popular=[]\n",
                "duration=[]\n",
                "for track in best_10['tracks'][:10]:\n",
                "    for i,val in enumerate(best_10['tracks'][0]):\n",
                "        if i==3:\n",
                "            duration.append(track['duration_ms'])\n",
                "        if i==11:\n",
                "            song.append(track['name'])\n",
                "        if i==12:\n",
                "            popular.append(track['popularity'])    \n",
                "data={'Titulo_Cancion':song,'Popularidad':popular,'Duracion (Min)':duration}\n",
                "df_best_10=pd.DataFrame(data)\n",
                "df_best_10['Duracion (Min)']=df_best_10['Duracion (Min)'].multiply(0.00001666667) \n",
                "df_best_10 = df_best_10.sort_values(by=['Popularidad']) \n",
                "df_best_10.reset_index(inplace=True)\n",
                "df_best_10 = df_best_10.drop(['index'],axis=1)\n",
                "df_best_10.tail(3)\n",
                "df_best_10"
            ]
        },
        {
            "cell_type": "code",
            "execution_count": 22,
            "metadata": {},
            "outputs": [
                {
                    "data": {
                        "image/png": "[encoded data removed]",
                        "text/plain": [
                            "<Figure size 640x480 with 1 Axes>"
                        ]
                    },
                    "metadata": {},
                    "output_type": "display_data"
                }
            ],
            "source": [
                "# Visualizacion\n",
                "\n",
                "sns.scatterplot(x=df_best_10['Popularidad'], y=df_best_10['Duracion (Min)'])\n",
                "plt.show()"
            ]
        },
        {
            "cell_type": "markdown",
            "metadata": {},
            "source": [
                "Se evidencia que la duracion de la cancion no tiene relacion directa con la popularidad de las canciones."
            ]
        }
    ],
    "metadata": {
        "kernelspec": {
            "display_name": "Python 3.8.13 64-bit ('3.8.13')",
            "language": "python",
            "name": "python3"
        },
        "language_info": {
            "codemirror_mode": {
                "name": "ipython",
                "version": 3
            },
            "file_extension": ".py",
            "mimetype": "text/x-python",
            "name": "python",
            "nbconvert_exporter": "python",
            "pygments_lexer": "ipython3",
            "version": "3.12.4"
        },
        "orig_nbformat": 4,
        "vscode": {
            "interpreter": {
                "hash": "110cc1dee26208153f2972f08a2ad52b6a56238dc66d48e87fb757ef2996db56"
            }
        }
    },
    "nbformat": 4,
    "nbformat_minor": 2
}
